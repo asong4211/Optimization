{
 "cells": [
  {
   "cell_type": "markdown",
   "metadata": {},
   "source": [
    "# Convex Optimization Summary\n",
    "\n",
    "## Table of Contents:\n",
    "1. [Linear Programming]()\n",
    "2. [Quadractic Programming (QP)]()\n",
    "3. [Quadratic Constraint Quadractic Programming (QCQP)]()\n",
    "4. [Second Order Cone Program(SOC)]()\n",
    "5. [Semidefinite Programs(SDP)]()\n",
    "6. [Convex Programs]()\n",
    "---"
   ]
  },
  {
   "cell_type": "markdown",
   "metadata": {},
   "source": [
    "## Linear Programming\n",
    "\n",
    "**Standard Form**\n",
    "$$ \\begin{equation*}\n",
    "\\begin{aligned}\n",
    "& \\underset{x}{\\text{maximize}}\n",
    "& & c^{T}x \\\\\n",
    "& \\text{subject to}\n",
    "& & Ax \\leq b \\\\\n",
    "& & & x \\geq 0 \\;\n",
    "\\end{aligned}\n",
    "\\end{equation*} \n",
    "$$"
   ]
  },
  {
   "cell_type": "code",
   "execution_count": null,
   "metadata": {},
   "outputs": [],
   "source": []
  },
  {
   "cell_type": "markdown",
   "metadata": {},
   "source": [
    "** dual form**\n",
    "$$ \\begin{equation*}\n",
    "\\begin{aligned}\n",
    "& \\underset{x}{\\text{minimize}}\n",
    "& & b^{T}\\lambda \\\\\n",
    "& \\text{subject to}\n",
    "& & A^{T}\\lambda \\geq c \\\\\n",
    "& & & \\lambda \\geq 0 \\;\n",
    "\\end{aligned}\n",
    "\\end{equation*} \n",
    "$$"
   ]
  },
  {
   "cell_type": "code",
   "execution_count": null,
   "metadata": {},
   "outputs": [],
   "source": []
  },
  {
   "cell_type": "markdown",
   "metadata": {},
   "source": [
    "### Related Linear Programming Problems:"
   ]
  },
  {
   "cell_type": "code",
   "execution_count": null,
   "metadata": {},
   "outputs": [],
   "source": []
  },
  {
   "cell_type": "markdown",
   "metadata": {},
   "source": [
    "---\n",
    "## Least Square\n",
    "\n",
    "$$ \\begin{equation*}\n",
    "\\begin{aligned}\n",
    "& \\underset{x}{\\text{minimize}}\n",
    "& &\\parallel Ax-b\\parallel^{2} \\\\\n",
    "\\end{aligned}\n",
    "\\end{equation*} \n",
    "$$\n",
    "\n",
    "- used when your A matrix is tall, more rows than columns\n",
    "- different norms to use:\n",
    "    - $ \\infty $ norm: minimize the largest component since it might be deominating\n",
    "        - $\\parallel r \\parallel_{\\infty} = max \\{ \\mid r_{1} \\mid,\\mid r_{2} \\mid,\\mid r_{3} \\mid, \\ldots ,\\mid r_{m} \\mid\\} $\n",
    "    - 1 norm, aka, Mahattan norm: minimize the sum of the absolute values\n",
    "        - $\\parallel r \\parallel_{1} =  \\mid r_{1} \\mid + \\mid r_{2} \\mid + \\mid r_{3} \\mid + \\ldots + \\mid r_{m} \\mid$\n",
    "    - 2 norm, minimize the Euclidean distance\n",
    "        - $ \\parallel r \\parallel_{2} = \\parallel r \\parallel = \\sqrt{r_1^2+r_2^2+r_3^2+\\ldots+r_m^2}  $\n",
    "        \n",
    "## Minimum Norm\n",
    "$$ \\begin{equation*}\n",
    "\\begin{aligned}\n",
    "& \\underset{x}{\\text{minimize}}\n",
    "& &\\parallel x\\parallel^{2} \\\\\n",
    "& \\text{subject to}\n",
    "& & Ax = b \\\\\n",
    "\\end{aligned}\n",
    "\\end{equation*} \n",
    "$$"
   ]
  },
  {
   "cell_type": "markdown",
   "metadata": {},
   "source": [
    "## More general Least Square: Equality Constraint Least Square\n",
    "$$ \\begin{equation*}\n",
    "\\begin{aligned}\n",
    "& \\underset{x}{\\text{minimize}}\n",
    "& & \\parallel Ax-b\\parallel^{2} \\\\\n",
    "& \\text{subject to}\n",
    "& & Cx = d \\\\\n",
    "\\end{aligned}\n",
    "\\end{equation*} \n",
    "$$\n",
    "- when C = 0, d = 0: we have an ordinary Least Square problem\n",
    "- when A = I, b = 0: we have a minimum norm problem\n",
    "- solving the above is equivalent of soving $ A^{T}Ax+C^{T}z = A^{T}b$ & $ Cx = d$\n",
    "\n",
    "## Optimal Tradeoffs:\n",
    "- suppose $J_1 = \\parallel Ax-b \\parallel^{2}$, $J_2 = \\parallel Cx-d \\parallel^{2}$\n",
    "- you want to make both small at the same time:\n",
    "$$ \n",
    "\\begin{equation*}\n",
    "\\begin{aligned}\n",
    "& \\underset{x}{\\text{minimize}}\n",
    "& & J_1(x) + \\lambda J_2(x) \\\\\n",
    "\\end{aligned}\n",
    "\\end{equation*}\n",
    "$$\n",
    "- solving and tuning this with different λ to get the Pareto Curve"
   ]
  },
  {
   "cell_type": "markdown",
   "metadata": {},
   "source": [
    "## Regularization\n",
    "- $ \\begin{equation*}\n",
    "\\begin{aligned}\n",
    "& \\underset{x}{\\text{minimize}}\n",
    "& & \\parallel Ax-b\\parallel^{2} + \\lambda R_x \\\\\n",
    "\\end{aligned}\n",
    "\\end{equation*}\n",
    "$\n",
    "- λ is the regularized parameter\n",
    "- R_x: regularizer\n",
    "    - L2 regularizer:\n",
    "        - aka: ridge regression, has a smothing effect\n",
    "        - $R(x) = \\parallel x\\parallel^2 = x_1^2 +  x_2^2 + x_3^2 + \\ldots + x_n^2  $\n",
    "    - L1 regularizer:\n",
    "        - aka: Lasso, has a sparsing effect\n",
    "        - $R(x) = \\parallel x\\parallel_1 = |x_1| +  |x_2| + |x_3| + \\ldots + |x_n|  $\n",
    "    - L∞ regularizer:\n",
    "        - has an effect of equalizing a solution\n",
    "        - $R(x) = \\parallel x \\parallel_\\infty = max \\{ |x_1| , |x_2| ,|x_3| , \\ldots ,|x_n|\\}$"
   ]
  },
  {
   "cell_type": "code",
   "execution_count": null,
   "metadata": {},
   "outputs": [],
   "source": []
  },
  {
   "cell_type": "markdown",
   "metadata": {},
   "source": [
    "## Quadratic Programs (QP)\n",
    "$$ \\begin{equation*}\n",
    "\\begin{aligned}\n",
    "& \\underset{x}{\\text{minimize}}\n",
    "& & x^{T}Px + q^{T}x + r \\\\\n",
    "& \\text{subject to}\n",
    "& & Ax \\leq b \\\\\n",
    "\\end{aligned}\n",
    "\\end{equation*} \n",
    "$$\n",
    "- if $P \\succeq 0$, i.e. it's positive definite, then it's a convex QP, solution can be found on the interior or boundary"
   ]
  },
  {
   "cell_type": "code",
   "execution_count": null,
   "metadata": {},
   "outputs": [],
   "source": []
  },
  {
   "cell_type": "markdown",
   "metadata": {},
   "source": [
    "## Quadratically Constraint Quadratic Program (QCQP)\n",
    "$$ \\begin{equation*}\n",
    "\\begin{aligned}\n",
    "& \\underset{x}{\\text{minimize}}\n",
    "& & x^{T}P_0x + q_0^{T}x + r_0 \\\\\n",
    "& \\text{subject to}\n",
    "& & x^{T}P_ix + q_i^{T}x + r_i \\leq 0, \\; \\forall i = 1, \\ldots, m. \\\\\n",
    "\\end{aligned}\n",
    "\\end{equation*} \n",
    "$$"
   ]
  },
  {
   "cell_type": "code",
   "execution_count": null,
   "metadata": {},
   "outputs": [],
   "source": []
  },
  {
   "cell_type": "markdown",
   "metadata": {},
   "source": [
    "## Second Order Cone (SOC) Programs \n",
    "$$ \\begin{equation*}\n",
    "\\begin{aligned}\n",
    "& \\underset{x}{\\text{minimize}}\n",
    "& & c^{T}x \\\\\n",
    "& \\text{subject to}\n",
    "& & \\parallel A_ix+b_i \\parallel \\leq c_i^{T}x + d_i, \\; \\forall i = 1, \\ldots, m. \\\\\n",
    "\\end{aligned}\n",
    "\\end{equation*} \n",
    "$$\n",
    "- the constraint $ \\parallel A_x+b \\parallel \\leq c^{T}x + d $is called a second order cone (SOC) constraint\n",
    "- every SOC constraint describes a convex set.\n"
   ]
  },
  {
   "cell_type": "markdown",
   "metadata": {},
   "source": [
    "## SemiDefinite Programs (SDP)\n",
    "- standard form:\n",
    "$$ \\begin{equation*}\n",
    "\\begin{aligned}\n",
    "& \\underset{x}{\\text{maximize}}\n",
    "& & trace(C^{T}x) \\\\\n",
    "& \\text{subject to}\n",
    "& & trace(A_i^{T}X) \\leq b_i, \\; \\forall i = 1, \\ldots, m. \\\\\n",
    "& & & X \\succeq 0\n",
    "\\end{aligned}\n",
    "\\end{equation*} \n",
    "$$\n",
    "\n",
    "- its dual form is\n",
    "$$ \\begin{equation*}\n",
    "\\begin{aligned}\n",
    "& \\underset{x}{\\text{maximize}}\n",
    "& & c^{T}x \\\\\n",
    "& \\text{subject to}\n",
    "& & Q_0 + \\sum_{i=1}^{m}x_iQ_i \\succeq 0 \\\\\n",
    "\\end{aligned}\n",
    "\\end{equation*} \n",
    "$$\n"
   ]
  },
  {
   "cell_type": "code",
   "execution_count": null,
   "metadata": {},
   "outputs": [],
   "source": []
  },
  {
   "cell_type": "markdown",
   "metadata": {},
   "source": [
    "## Convex Program (most general)\n",
    "$$ \\begin{equation*}\n",
    "\\begin{aligned}\n",
    "& \\underset{x}{\\text{minimize}}\n",
    "& & f_0(x) \\\\\n",
    "& \\text{subject to}\n",
    "& & f_i(x) \\leq 0, \\; \\forall i = 1, \\ldots, k. \\\\\n",
    "& & & Ax = b \\\\\n",
    "& & &  x \\in C\n",
    "\\end{aligned}\n",
    "\\end{equation*} \n",
    "$$\n",
    "\n",
    "- $f_0,f_1,\\ldots,f_k$ are convex function\n",
    "- C is a convex set"
   ]
  },
  {
   "cell_type": "code",
   "execution_count": null,
   "metadata": {},
   "outputs": [],
   "source": []
  }
 ],
 "metadata": {
  "kernelspec": {
   "display_name": "Julia 0.6.2",
   "language": "julia",
   "name": "julia-0.6"
  },
  "language_info": {
   "file_extension": ".jl",
   "mimetype": "application/julia",
   "name": "julia",
   "version": "0.6.2"
  }
 },
 "nbformat": 4,
 "nbformat_minor": 2
}
